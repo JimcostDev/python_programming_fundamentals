{
 "cells": [
  {
   "cell_type": "markdown",
   "metadata": {},
   "source": [
    "<font size=6 color=\"#0098CD\">\n",
    "NÚMERO PERFECTO\n",
    "</font>"
   ]
  },
  {
   "cell_type": "markdown",
   "metadata": {},
   "source": [
    "\n",
    "---\n",
    "Los números perfectos son aquellos enteros positivos iguales a la suma de sus divisores positivos, \n",
    "sin contarse el mismo número.\n",
    "\n",
    "**Por  ejemplo:** \n",
    "El $6$, ya que $1+2+3 = 6$\n",
    "    \n",
    "**Nota:** Hasta la fecha se han encontrado $51$ números pefectos \n",
    "\n",
    "---"
   ]
  },
  {
   "cell_type": "markdown",
   "metadata": {},
   "source": [
    "## Lista de números perfectos:\n"
   ]
  },
  {
   "cell_type": "markdown",
   "metadata": {},
   "source": [
    ">[Ver lista](https://www.vaxasoftware.com/doc_edu/mat/numperfe_esp.pdf)"
   ]
  },
  {
   "cell_type": "code",
   "execution_count": 2,
   "metadata": {},
   "outputs": [
    {
     "name": "stdout",
     "output_type": "stream",
     "text": [
      "\n",
      "[6, 28, 496]\n",
      "Existen 3 números perfectos hasta el número 500.\n"
     ]
    }
   ],
   "source": [
    "\n",
    "# Función que determina si un numero es perfecto o no\n",
    "def esPerfecto(numero):\n",
    "    if numero <= 5:\n",
    "        return False\n",
    "    contar = []\n",
    "    for n in range(1,numero):\n",
    "        if numero%n == 0:\n",
    "            contar.append(n)\n",
    "    suma = sum(contar)\n",
    "    if suma == numero:\n",
    "        return True\n",
    "    else:\n",
    "        return False\n",
    "\n",
    "\n",
    "def run():\n",
    "    hasta = int(input('Ingrese el número límite (hasta) para buscar los números perfectos hasta ese número dado: '))\n",
    "    lista_perfectos = []\n",
    "    for n in range(5,hasta):\n",
    "        if esPerfecto(n):\n",
    "            lista_perfectos.append(n)\n",
    "\n",
    "    print()\n",
    "    print(lista_perfectos)\n",
    "    print(f'Existen {len(lista_perfectos)} números perfectos hasta el número {hasta}.')\n",
    "\n",
    "if __name__ == '__main__':\n",
    "    run()\n"
   ]
  }
 ],
 "metadata": {
  "kernelspec": {
   "display_name": "Python 3.10.5 64-bit",
   "language": "python",
   "name": "python3"
  },
  "language_info": {
   "codemirror_mode": {
    "name": "ipython",
    "version": 3
   },
   "file_extension": ".py",
   "mimetype": "text/x-python",
   "name": "python",
   "nbconvert_exporter": "python",
   "pygments_lexer": "ipython3",
   "version": "3.10.5"
  },
  "orig_nbformat": 4,
  "vscode": {
   "interpreter": {
    "hash": "07435c5db8cdf0eda12355611327544e1e2ed2c68f64c0e507cf2d1a5a42fd93"
   }
  }
 },
 "nbformat": 4,
 "nbformat_minor": 2
}
